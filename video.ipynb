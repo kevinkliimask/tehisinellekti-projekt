{
 "cells": [
  {
   "attachments": {},
   "cell_type": "markdown",
   "metadata": {},
   "source": [
    "# Kodutöö 7: Interaktiivne näotuvastus koos filtrite ja juturobotiga"
   ]
  },
  {
   "cell_type": "code",
   "execution_count": null,
   "metadata": {},
   "outputs": [],
   "source": [
    "# Vajadusel eemalda kommentaarid, et installida vajalikud moodulid\n",
    "#!pip install numpy\n",
    "#!pip install opencv-python\n",
    "#!pip install estnltk"
   ]
  },
  {
   "cell_type": "code",
   "execution_count": null,
   "metadata": {},
   "outputs": [],
   "source": [
    "import threading\n",
    "import time\n",
    "import cv2 as cv\n",
    "import numpy as np\n",
    "import chatbot as ai\n",
    "\n",
    "face_cascade = cv.CascadeClassifier(\"haarcascade_frontalface_default.xml\")"
   ]
  },
  {
   "attachments": {},
   "cell_type": "markdown",
   "metadata": {},
   "source": [
    "## Kasutajasisendi töötlemine ja filtri rakendamine\n",
    "\n",
    "Järgnevad funktsioonid töötavad koos, et luua interaktiivne kasutajakogemus, kus kasutaja saab valida ja rakendada virtuaalseid filtreid. `inputWorker` funktsioon töötleb kasutaja sisendi ja genereerib vastuseid, juhindudes kasutaja soovidest. `overlayFilter` ja `filterImage` funktsioonid vastutavad filtrite haldamise eest, määrates filtri asukoha ja suuruse."
   ]
  },
  {
   "cell_type": "code",
   "execution_count": null,
   "metadata": {},
   "outputs": [],
   "source": [
    "# Tegeleb kasutaja poolt saadud sisenditega\n",
    "def inputWorker(ref):\n",
    "    print(ai.get_intro())\n",
    "    time.sleep(0.5)\n",
    "    while True:\n",
    "        user_input = input(\"Kasutaja: \")\n",
    "        ref[0], response = ai.get_response(user_input, ref[0])\n",
    "        print(response)\n",
    "        time.sleep(0.5)\n",
    "\n",
    "        if ref[0] == \"exit\":\n",
    "            break"
   ]
  },
  {
   "cell_type": "code",
   "execution_count": null,
   "metadata": {},
   "outputs": [],
   "source": [
    "# Paneb filtri pildile\n",
    "def overlayFilter(image, x, y, w, h, filter_img):\n",
    "    # Võtame overlay pildist alpha kanali välja\n",
    "    alpha = filter_img[:, :, 3]\n",
    "    alpha = cv.merge([alpha, alpha, alpha])\n",
    "\n",
    "    cropped_image = image[y:y + h, x:x + w]\n",
    "\n",
    "    # Võtame overlay pildist BGR kanalid välja\n",
    "    bgr = filter_img[:, :, 0:3]\n",
    "\n",
    "    # Kui alpha on 0, vali taust, kui mitte, vali meie overlay filter\n",
    "    image[y:y + h, x:x + w] = np.where(alpha == 0, cropped_image, bgr)\n",
    "    return image"
   ]
  },
  {
   "cell_type": "code",
   "execution_count": null,
   "metadata": {},
   "outputs": [],
   "source": [
    "# Valib vastava filtri, määrab selle suuruse ning paneb selle pildile\n",
    "def filterImage(image, x, y, w, filter_name):\n",
    "    file = filter_name.replace(\"ä\", \"a\").replace(\"ö\", \"o\").replace(\"õ\", \"o\").replace(\"ü\", \"u\")\n",
    "\n",
    "    filter_img = cv.imread(f\"filters/{file}.png\", cv.IMREAD_UNCHANGED)\n",
    "\n",
    "    fw = w\n",
    "    fh = int(filter_img.shape[0] * w / float(filter_img.shape[1]))\n",
    "\n",
    "    if filter_name in ai.get_head_filters():\n",
    "        if filter_name == \"deemon\":\n",
    "            y = y - int(w * 0.4)\n",
    "        else:\n",
    "            y = y - int(w * 0.6)\n",
    "    elif filter_name in ai.get_eye_filters():\n",
    "        y = y + int(w * 0.3)\n",
    "    elif filter_name in ai.get_face_filters():\n",
    "        if filter_name == \"mask\":\n",
    "            y = y + int(w * 0.5)\n",
    "        elif filter_name == \"kloun\":\n",
    "            y = y + int(w * 0.2)\n",
    "        elif filter_name == \"koer\":\n",
    "            y = y - int(w * 0.1)\n",
    "        elif filter_name == \"karu\":\n",
    "            y = y - int(w / 4)\n",
    "        elif filter_name == \"vunts\":\n",
    "            x = x + int(w / 4)\n",
    "            y = y + int(w * 0.7)\n",
    "            fw = int(w / 2)\n",
    "            fh = int((filter_img.shape[0] * fw) / float(filter_img.shape[1]))\n",
    "\n",
    "    filter_img = cv.resize(filter_img, (fw, fh))\n",
    "\n",
    "    # Kui filter läheb ekraanist välja, siis lõikame vastavalt vähemaks\n",
    "    if y < 0:\n",
    "        filter_img = filter_img[abs(y):]\n",
    "        fh -= abs(y)\n",
    "        y = 0\n",
    "\n",
    "    if 0 <= x and x + fw < image.shape[1] and y + fh < image.shape[0]:\n",
    "        return overlayFilter(image, x, y, fw, fh, filter_img)\n",
    "    return image"
   ]
  },
  {
   "attachments": {},
   "cell_type": "markdown",
   "metadata": {},
   "source": [
    "## Põhiprogramm\n",
    "\n",
    "Programm avab videovoo, käivitab eraldi lõime kasutaja sisendi töötlemiseks ja alustab tsüklit, mis loeb sisse kaamerasvideokaadreid. Iga kaadri puhul teostatakse näotuvastus ja rakendatakse eelpool defineeritud funktsioone, et leida inimeste näod, ja lisada filtrid, mis vastavad kasutaja poolt valitud võtmesõnadele. Kui kasutaja otsustab lõpetada või vajutab ESC klahvi, siis programm lõpetab videovoogu lugemise ja suleb kõik avatud aknad."
   ]
  },
  {
   "cell_type": "code",
   "execution_count": null,
   "metadata": {},
   "outputs": [],
   "source": [
    "video = cv.VideoCapture(0)\n",
    "refs = [\"\"]\n",
    "\n",
    "threading.Thread(target=inputWorker, args=[refs]).start()\n",
    "\n",
    "while True:\n",
    "    result, img = video.read()\n",
    "\n",
    "    # Flipib pildi ümber, et toimuks arusaadav peegeldus\n",
    "    img = cv.flip(img, 1)\n",
    "\n",
    "    # Näotuvastus\n",
    "    gray_img = cv.cvtColor(img, cv.COLOR_BGR2GRAY)\n",
    "    faces = face_cascade.detectMultiScale(gray_img)\n",
    "    for (x, y, w, h) in faces:\n",
    "        # cv.rectangle(img, (x, y), (x + w, y + h), (0, 0, 255), 2)\n",
    "        if refs[0] not in [\"\", \"exit\"]:\n",
    "            img = filterImage(img, x, y, w, refs[0])\n",
    "\n",
    "    cv.imshow(\"Camera\", img)\n",
    "\n",
    "    k = cv.waitKey(30) & 0xFF\n",
    "    if k == 27:  # ehk ESC nupp\n",
    "        break\n",
    "\n",
    "    if refs[0] == \"exit\":\n",
    "        break\n",
    "\n",
    "video.release()\n",
    "cv.destroyAllWindows()"
   ]
  },
  {
   "cell_type": "code",
   "execution_count": null,
   "metadata": {},
   "outputs": [],
   "source": []
  }
 ],
 "metadata": {
  "kernelspec": {
   "display_name": "Python 3 (ipykernel)",
   "language": "python",
   "name": "python3"
  },
  "language_info": {
   "codemirror_mode": {
    "name": "ipython",
    "version": 3
   },
   "file_extension": ".py",
   "mimetype": "text/x-python",
   "name": "python",
   "nbconvert_exporter": "python",
   "pygments_lexer": "ipython3",
   "version": "3.8.10"
  }
 },
 "nbformat": 4,
 "nbformat_minor": 1
}
