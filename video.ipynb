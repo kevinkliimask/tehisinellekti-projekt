{
 "cells": [
  {
   "cell_type": "code",
   "execution_count": 1,
   "metadata": {
    "ExecuteTime": {
     "end_time": "2023-05-21T18:07:00.942266100Z",
     "start_time": "2023-05-21T18:07:00.922698300Z"
    }
   },
   "outputs": [],
   "source": [
    "#!pip install opencv-python\n",
    "#!pip install estnltk"
   ]
  },
  {
   "cell_type": "code",
   "execution_count": 2,
   "metadata": {
    "ExecuteTime": {
     "end_time": "2023-05-21T18:07:04.521084300Z",
     "start_time": "2023-05-21T18:07:00.942266100Z"
    }
   },
   "outputs": [],
   "source": [
    "import threading\n",
    "import time\n",
    "import cv2 as cv\n",
    "import numpy as np\n",
    "import chatbot as ai\n",
    "\n",
    "face_cascade = cv.CascadeClassifier(\"haarcascade_frontalface_default.xml\")"
   ]
  },
  {
   "cell_type": "code",
   "execution_count": 3,
   "metadata": {
    "ExecuteTime": {
     "end_time": "2023-05-21T18:07:04.536022500Z",
     "start_time": "2023-05-21T18:07:04.527091600Z"
    }
   },
   "outputs": [],
   "source": [
    "# Tegeleb kasutaja poolt saadud sisenditega\n",
    "def inputWorker(ref):\n",
    "    print(ai.get_intro())\n",
    "    time.sleep(0.5)\n",
    "    while True:\n",
    "        user_input = input(\"Kasutaja: \")\n",
    "        ref[0], response = ai.get_response(user_input, ref[0])\n",
    "        print(response)\n",
    "\n",
    "        if ref[0] == \"exit\":\n",
    "            break"
   ]
  },
  {
   "cell_type": "code",
   "execution_count": 4,
   "metadata": {
    "ExecuteTime": {
     "end_time": "2023-05-21T18:07:04.567952200Z",
     "start_time": "2023-05-21T18:07:04.538079800Z"
    }
   },
   "outputs": [],
   "source": [
    "# Paneb filtri pildile\n",
    "def overlayFilter(image, x, y, w, h, filter_img):\n",
    "    # Võtame overlay pildist alpha kanali välja\n",
    "    alpha = filter_img[:, :, 3]\n",
    "    alpha = cv.merge([alpha, alpha, alpha])\n",
    "\n",
    "    cropped_image = image[y:y + h, x:x + w]\n",
    "\n",
    "    # Võtame overlay pildist BGR kanalid välja\n",
    "    bgr = filter_img[:, :, 0:3]\n",
    "\n",
    "    # Kui alpha on 0, vali taust, kui mitte, vali meie overlay filter\n",
    "    image[y:y + h, x:x + w] = np.where(alpha == 0, cropped_image, bgr)\n",
    "    return image"
   ]
  },
  {
   "cell_type": "code",
   "execution_count": 5,
   "metadata": {
    "ExecuteTime": {
     "end_time": "2023-05-21T18:07:04.580885800Z",
     "start_time": "2023-05-21T18:07:04.573486700Z"
    }
   },
   "outputs": [],
   "source": [
    "# Valib vastava filtri, määrab selle suuruse ning paneb selle pildile\n",
    "def filterImage(image, x, y, w, filter_name):\n",
    "    file = filter_name.replace(\"ä\", \"a\").replace(\"ö\", \"o\").replace(\"õ\", \"o\").replace(\"ü\", \"u\")\n",
    "\n",
    "    filter_img = cv.imread(f\"filters/{file}.png\", cv.IMREAD_UNCHANGED)\n",
    "\n",
    "    fh = int(filter_img.shape[0] * w / float(filter_img.shape[1]))\n",
    "    filter_img = cv.resize(filter_img, (w, fh))\n",
    "\n",
    "    fh, fw = filter_img.shape[:2]\n",
    "    if filter_name in ai.get_head_filters():\n",
    "        y = y - int(fw * 0.6)\n",
    "    elif filter_name in ai.get_eye_filters():\n",
    "        y = y + int(fw * 0.3)\n",
    "    elif filter_name in ai.get_face_filters():\n",
    "        if filter_name == \"mask\":\n",
    "            y = y + int(fw * 0.5)\n",
    "        elif filter_name == \"vunts\":\n",
    "            x = x + int(w / 4)\n",
    "            y = y + int(fw * 0.7)\n",
    "            fw = int(w / 2)\n",
    "            fh = int((filter_img.shape[0] * fw) / float(filter_img.shape[1]))\n",
    "            filter_img = cv.resize(filter_img, (fw, fh))\n",
    "\n",
    "    # Kui filter läheb ekraanist välja, siis lõikame vastavalt vähemaks\n",
    "    if y < 0:\n",
    "        filter_img = filter_img[abs(y):]\n",
    "        fh -= abs(y)\n",
    "        y = 0\n",
    "\n",
    "    if 0 <= x and x + fw < image.shape[1] and y + fh < image.shape[0]:\n",
    "        return overlayFilter(image, x, y, fw, fh, filter_img)\n",
    "    return image"
   ]
  },
  {
   "cell_type": "code",
   "execution_count": 6,
   "metadata": {
    "ExecuteTime": {
     "end_time": "2023-05-21T18:07:59.094458300Z",
     "start_time": "2023-05-21T18:07:04.587889800Z"
    }
   },
   "outputs": [
    {
     "name": "stdout",
     "output_type": "stream",
     "text": [
      "Tere, millist filtrit te soovite?\n",
      "Kasutaja: Palun anna mulle prille\n",
      "[['paluma'], ['andma'], ['mina'], ['prill']]\n",
      "Vabandust, ei saanud aru. Palun öelge uuesti.\n",
      "Kasutaja: lõpeta\n",
      "[['lõpetama']]\n",
      "Nägemist!\n"
     ]
    }
   ],
   "source": [
    "video = cv.VideoCapture(0)\n",
    "refs = [\"\"]\n",
    "\n",
    "threading.Thread(target=inputWorker, args=[refs]).start()\n",
    "\n",
    "while True:\n",
    "    result, img = video.read()\n",
    "\n",
    "    # Flipib pildi ümber, et toimuks arusaadav peegeldus\n",
    "    img = cv.flip(img, 1)\n",
    "\n",
    "    # Näotuvastus\n",
    "    gray_img = cv.cvtColor(img, cv.COLOR_BGR2GRAY)\n",
    "    faces = face_cascade.detectMultiScale(gray_img)\n",
    "    for (x, y, w, h) in faces:\n",
    "        cv.rectangle(img, (x, y), (x + w, y + h), (0, 0, 255), 2)\n",
    "        if refs[0] not in [\"\", \"exit\"]:\n",
    "            img = filterImage(img, x, y, w, refs[0])\n",
    "\n",
    "    cv.imshow(\"Camera\", img)\n",
    "\n",
    "    k = cv.waitKey(30) & 0xFF\n",
    "    if k == 27:  # ehk ESC nupp\n",
    "        break\n",
    "\n",
    "    if refs[0] == \"exit\":\n",
    "        break\n",
    "\n",
    "video.release()\n",
    "cv.destroyAllWindows()"
   ]
  },
  {
   "cell_type": "code",
   "execution_count": null,
   "metadata": {
    "ExecuteTime": {
     "end_time": "2023-05-21T18:07:59.109143Z",
     "start_time": "2023-05-21T18:07:59.095457100Z"
    }
   },
   "outputs": [],
   "source": []
  }
 ],
 "metadata": {
  "kernelspec": {
   "display_name": "Python 3 (ipykernel)",
   "language": "python",
   "name": "python3"
  },
  "language_info": {
   "codemirror_mode": {
    "name": "ipython",
    "version": 3
   },
   "file_extension": ".py",
   "mimetype": "text/x-python",
   "name": "python",
   "nbconvert_exporter": "python",
   "pygments_lexer": "ipython3",
   "version": "3.8.10"
  }
 },
 "nbformat": 4,
 "nbformat_minor": 1
}
