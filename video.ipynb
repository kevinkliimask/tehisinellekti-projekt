{
 "cells": [
  {
   "cell_type": "code",
   "execution_count": 1,
   "metadata": {
    "collapsed": true,
    "ExecuteTime": {
     "end_time": "2023-05-20T12:57:15.723447Z",
     "start_time": "2023-05-20T12:57:15.515385100Z"
    }
   },
   "outputs": [],
   "source": [
    "import threading\n",
    "import cv2 as cv\n",
    "\n",
    "face_cascade = cv.CascadeClassifier(\"haarcascade_frontalface_default.xml\")"
   ]
  },
  {
   "cell_type": "code",
   "execution_count": 10,
   "outputs": [],
   "source": [
    "i = \"\"\n",
    "\n",
    "def videoWorker():\n",
    "    video = cv.VideoCapture(0)\n",
    "    global i\n",
    "\n",
    "    while True:\n",
    "        result, img = video.read()\n",
    "\n",
    "        # Flipib pildi ümber, et toimuks arusaadav peegeldus\n",
    "        img = cv.flip(img, 1)\n",
    "\n",
    "        # Näotuvastus\n",
    "        gray_img = cv.cvtColor(img, cv.COLOR_BGR2GRAY)\n",
    "        faces = face_cascade.detectMultiScale(gray_img)\n",
    "        for (x, y, w, h) in faces:\n",
    "            # Joonistab nägude ümber ristküliku\n",
    "            cv.rectangle(img, (x, y), (x + w, y + h), (0, 0, 255), 2)\n",
    "\n",
    "        cv.imshow(\"Camera\", img)\n",
    "\n",
    "        k = cv.waitKey(30) & 0xFF\n",
    "        if k == 27:\n",
    "            break\n",
    "\n",
    "        if i == \"a\":\n",
    "            break\n",
    "\n",
    "    video.release()\n",
    "    cv.destroyAllWindows()\n",
    "\n",
    "def inputWorker():\n",
    "    global i\n",
    "    while True:\n",
    "        i = input()\n",
    "        if i == \"a\":\n",
    "            break\n",
    "\n",
    "threading.Thread(target=videoWorker).start()\n",
    "threading.Thread(target=inputWorker).start()"
   ],
   "metadata": {
    "collapsed": false,
    "ExecuteTime": {
     "end_time": "2023-05-20T13:01:26.800278500Z",
     "start_time": "2023-05-20T13:01:18.462608400Z"
    }
   }
  },
  {
   "cell_type": "code",
   "execution_count": null,
   "outputs": [],
   "source": [],
   "metadata": {
    "collapsed": false
   }
  }
 ],
 "metadata": {
  "kernelspec": {
   "display_name": "Python 3",
   "language": "python",
   "name": "python3"
  },
  "language_info": {
   "codemirror_mode": {
    "name": "ipython",
    "version": 2
   },
   "file_extension": ".py",
   "mimetype": "text/x-python",
   "name": "python",
   "nbconvert_exporter": "python",
   "pygments_lexer": "ipython2",
   "version": "2.7.6"
  }
 },
 "nbformat": 4,
 "nbformat_minor": 0
}
