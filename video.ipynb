{
 "cells": [
  {
   "cell_type": "code",
   "execution_count": 1,
   "outputs": [],
   "source": [
    "#!pip install opencv-python"
   ],
   "metadata": {
    "collapsed": false,
    "ExecuteTime": {
     "end_time": "2023-05-20T20:01:38.680641800Z",
     "start_time": "2023-05-20T20:01:38.672643200Z"
    }
   }
  },
  {
   "cell_type": "code",
   "execution_count": 2,
   "metadata": {
    "collapsed": true,
    "ExecuteTime": {
     "end_time": "2023-05-20T20:01:38.872537Z",
     "start_time": "2023-05-20T20:01:38.688709300Z"
    }
   },
   "outputs": [],
   "source": [
    "import threading\n",
    "import cv2 as cv\n",
    "import numpy as np\n",
    "\n",
    "face_cascade = cv.CascadeClassifier(\"haarcascade_frontalface_default.xml\")"
   ]
  },
  {
   "cell_type": "code",
   "execution_count": 3,
   "outputs": [],
   "source": [
    "def inputWorker(ref):\n",
    "    while True:\n",
    "        ref[0] = input(\"Küsimus\")\n",
    "        if ref[0] == \"exit\":\n",
    "            break\n",
    "\n",
    "        if ref[0] == \"fedora\":\n",
    "            ref[1] = \"fedora\""
   ],
   "metadata": {
    "collapsed": false,
    "ExecuteTime": {
     "end_time": "2023-05-20T20:01:38.890054300Z",
     "start_time": "2023-05-20T20:01:38.878404200Z"
    }
   }
  },
  {
   "cell_type": "code",
   "execution_count": 4,
   "outputs": [],
   "source": [
    "def overlayFilter(image, x, y, w, h, filter_img):\n",
    "    # Võtame overlay pildist alpha kanali välja\n",
    "    alpha = filter_img[:,:,3]\n",
    "    alpha = cv.merge([alpha,alpha,alpha])\n",
    "\n",
    "    cropped_image = image[y:y + h, x:x + w]\n",
    "\n",
    "    # Võtame overlay pildist BGR kanalid välja\n",
    "    bgr = filter_img[:,:,0:3]\n",
    "\n",
    "    # Kui alpha on 0, vali taust, kui mitte, vali meie overlay filter\n",
    "    image[y:y + h, x:x + w] = np.where(alpha==0, cropped_image, bgr)\n",
    "    return image"
   ],
   "metadata": {
    "collapsed": false,
    "ExecuteTime": {
     "end_time": "2023-05-20T20:01:38.913416800Z",
     "start_time": "2023-05-20T20:01:38.892516800Z"
    }
   }
  },
  {
   "cell_type": "code",
   "execution_count": 5,
   "outputs": [],
   "source": [
    "def headFilter(image, x, y, w, h, filter_img):\n",
    "    filter_img = cv.resize(filter_img, (w, h))\n",
    "    y_offset = y + int(filter_img.shape[0] * 0.2) - filter_img.shape[0]\n",
    "\n",
    "    # Kui filter läheb ekraanist välja, siis lõikame vastavalt vähemaks\n",
    "    if y_offset < 0:\n",
    "        filter_img = filter_img[abs(y_offset):]\n",
    "        h -= abs(y_offset)\n",
    "        y_offset = 0\n",
    "\n",
    "    if 0 <= x and x + w < image.shape[1] and y_offset + h < image.shape[0]:\n",
    "        return overlayFilter(image, x, y_offset, w, h, filter_img)\n",
    "    return image"
   ],
   "metadata": {
    "collapsed": false,
    "ExecuteTime": {
     "end_time": "2023-05-20T20:01:38.929973600Z",
     "start_time": "2023-05-20T20:01:38.913416800Z"
    }
   }
  },
  {
   "cell_type": "code",
   "execution_count": 6,
   "outputs": [],
   "source": [
    "def filterImage(image, x_cord, y_cord, width, height, filter_name):\n",
    "    head_filters = [\"fedora\"]\n",
    "    eye_filters = [\"glasses\", \"sunglasses\"]\n",
    "    filter_img = cv.imread(f\"filters/{filter_name}.png\", cv.IMREAD_UNCHANGED)\n",
    "\n",
    "    if filter_name in head_filters:\n",
    "        image = headFilter(image, x_cord, y_cord, width, height, filter_img)\n",
    "    #elif filter_name in eye_filters:\n",
    "    #    image = eyeFilter(image, x_cord, y_cord, width, height, filter_img)\n",
    "\n",
    "    return image"
   ],
   "metadata": {
    "collapsed": false,
    "ExecuteTime": {
     "end_time": "2023-05-20T20:01:38.945940500Z",
     "start_time": "2023-05-20T20:01:38.929973600Z"
    }
   }
  },
  {
   "cell_type": "code",
   "execution_count": 7,
   "outputs": [],
   "source": [
    "video = cv.VideoCapture(0)\n",
    "refs = [\"\", \"\"]\n",
    "\n",
    "threading.Thread(target=inputWorker, args=[refs]).start()\n",
    "\n",
    "while True:\n",
    "    result, img = video.read()\n",
    "\n",
    "    # Flipib pildi ümber, et toimuks arusaadav peegeldus\n",
    "    img = cv.flip(img, 1)\n",
    "\n",
    "    # Näotuvastus\n",
    "    gray_img = cv.cvtColor(img, cv.COLOR_BGR2GRAY)\n",
    "    faces = face_cascade.detectMultiScale(gray_img)\n",
    "    for (x, y, w, h) in faces:\n",
    "        if refs[1] != \"\":\n",
    "            img = filterImage(img, x, y, w, h, refs[1])\n",
    "\n",
    "    cv.imshow(\"Camera\", img)\n",
    "\n",
    "    k = cv.waitKey(30) & 0xFF\n",
    "    if k == 27: # ehk ESC nupp\n",
    "        break\n",
    "\n",
    "    if refs[0] == \"exit\":\n",
    "        break\n",
    "\n",
    "video.release()\n",
    "cv.destroyAllWindows()"
   ],
   "metadata": {
    "collapsed": false,
    "pycharm": {
     "is_executing": true
    },
    "ExecuteTime": {
     "end_time": "2023-05-20T20:01:48.626976400Z",
     "start_time": "2023-05-20T20:01:38.953785400Z"
    }
   }
  },
  {
   "cell_type": "code",
   "execution_count": 7,
   "outputs": [],
   "source": [],
   "metadata": {
    "collapsed": false,
    "ExecuteTime": {
     "end_time": "2023-05-20T20:01:48.643653900Z",
     "start_time": "2023-05-20T20:01:48.626976400Z"
    }
   }
  }
 ],
 "metadata": {
  "kernelspec": {
   "display_name": "Python 3",
   "language": "python",
   "name": "python3"
  },
  "language_info": {
   "codemirror_mode": {
    "name": "ipython",
    "version": 2
   },
   "file_extension": ".py",
   "mimetype": "text/x-python",
   "name": "python",
   "nbconvert_exporter": "python",
   "pygments_lexer": "ipython2",
   "version": "2.7.6"
  }
 },
 "nbformat": 4,
 "nbformat_minor": 0
}
