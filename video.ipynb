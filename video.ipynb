{
 "cells": [
  {
   "cell_type": "code",
   "execution_count": 11,
   "metadata": {
    "ExecuteTime": {
     "end_time": "2023-05-20T21:56:01.025037500Z",
     "start_time": "2023-05-20T21:56:01.001014400Z"
    }
   },
   "outputs": [],
   "source": [
    "#!pip install opencv-python\n",
    "#!pip install estnltk"
   ]
  },
  {
   "cell_type": "code",
   "execution_count": 12,
   "metadata": {
    "ExecuteTime": {
     "end_time": "2023-05-20T21:56:06.438563200Z",
     "start_time": "2023-05-20T21:56:01.026948200Z"
    }
   },
   "outputs": [],
   "source": [
    "import threading\n",
    "import cv2 as cv\n",
    "import numpy as np\n",
    "import chatbot as ai\n",
    "\n",
    "face_cascade = cv.CascadeClassifier(\"haarcascade_frontalface_default.xml\")"
   ]
  },
  {
   "cell_type": "code",
   "execution_count": 13,
   "metadata": {
    "ExecuteTime": {
     "end_time": "2023-05-20T21:56:06.466775800Z",
     "start_time": "2023-05-20T21:56:06.453917100Z"
    }
   },
   "outputs": [],
   "source": [
    "# Tegeleb kasutaja poolt saadud sisenditega\n",
    "def inputWorker(ref):\n",
    "    filters = ai.get_filters()\n",
    "    ref[0], response = ai.get_response(ref[0])\n",
    "    while True:\n",
    "        user_input = input(response)\n",
    "        ref[0], response = ai.get_response(user_input)\n",
    "\n",
    "        if ref[0] == \"exit\":\n",
    "            break\n",
    "\n",
    "        if ref[0] in filters:\n",
    "            ref[1] = ref[0]"
   ]
  },
  {
   "cell_type": "code",
   "execution_count": 14,
   "metadata": {
    "ExecuteTime": {
     "end_time": "2023-05-20T21:56:06.503764100Z",
     "start_time": "2023-05-20T21:56:06.469000600Z"
    }
   },
   "outputs": [],
   "source": [
    "# Paneb filtri pildile\n",
    "def overlayFilter(image, x, y, w, h, filter_img):\n",
    "    # Võtame overlay pildist alpha kanali välja\n",
    "    alpha = filter_img[:, :, 3]\n",
    "    alpha = cv.merge([alpha, alpha, alpha])\n",
    "\n",
    "    cropped_image = image[y:y + h, x:x + w]\n",
    "\n",
    "    # Võtame overlay pildist BGR kanalid välja\n",
    "    bgr = filter_img[:, :, 0:3]\n",
    "\n",
    "    # Kui alpha on 0, vali taust, kui mitte, vali meie overlay filter\n",
    "    image[y:y + h, x:x + w] = np.where(alpha == 0, cropped_image, bgr)\n",
    "    return image"
   ]
  },
  {
   "cell_type": "code",
   "execution_count": 15,
   "metadata": {
    "ExecuteTime": {
     "end_time": "2023-05-20T21:56:06.519759300Z",
     "start_time": "2023-05-20T21:56:06.503764100Z"
    }
   },
   "outputs": [],
   "source": [
    "# Valib vastava filtri, määrab selle suuruse ning paneb selle pildile\n",
    "def filterImage(image, x, y, w, filter_name):\n",
    "    head_filters = [\"kubar\", \"nokamuts\", \"kiiver\"]\n",
    "    eye_filters = [\"prill\", \"paikeseprill\"]\n",
    "    lower_face_filters = [\"mask\", \"vunts\"]\n",
    "    filter_name = filter_name.replace(\"ä\", \"a\").replace(\"ö\", \"o\").replace(\"õ\", \"o\").replace(\"ü\", \"u\")\n",
    "\n",
    "    filter_img = cv.imread(f\"filters/{filter_name}.png\", cv.IMREAD_UNCHANGED)\n",
    "\n",
    "    fh = int(filter_img.shape[0] * w / float(filter_img.shape[1]))\n",
    "    filter_img = cv.resize(filter_img, (w, fh))\n",
    "\n",
    "    fh, fw = filter_img.shape[:2]\n",
    "    if filter_name in head_filters:\n",
    "        y = y - int(fw * 0.5)\n",
    "    elif filter_name in eye_filters:\n",
    "        y = y + int(fw * 0.25)\n",
    "    elif filter_name in lower_face_filters:\n",
    "        if filter_name == \"mask\":\n",
    "            y = y + int(fw * 0.5)\n",
    "        elif filter_name == \"vunts\":\n",
    "            x = x + int(w / 4)\n",
    "            y = y + int(fw * 0.7)\n",
    "            fw = int(w / 2)\n",
    "            fh = int((filter_img.shape[0] * fw) / float(filter_img.shape[1]))\n",
    "            filter_img = cv.resize(filter_img, (fw, fh))\n",
    "\n",
    "    # Kui filter läheb ekraanist välja, siis lõikame vastavalt vähemaks\n",
    "    if y < 0:\n",
    "        filter_img = filter_img[abs(y):]\n",
    "        fh -= abs(y)\n",
    "        y = 0\n",
    "\n",
    "    if 0 <= x and x + fw < image.shape[1] and y + fh < image.shape[0]:\n",
    "        return overlayFilter(image, x, y, fw, fh, filter_img)\n",
    "    return image"
   ]
  },
  {
   "cell_type": "code",
   "execution_count": 16,
   "metadata": {
    "ExecuteTime": {
     "end_time": "2023-05-20T21:56:41.007197500Z",
     "start_time": "2023-05-20T21:56:06.528039300Z"
    }
   },
   "outputs": [],
   "source": [
    "video = cv.VideoCapture(0)\n",
    "refs = [\"_____\", \"\"]\n",
    "\n",
    "threading.Thread(target=inputWorker, args=[refs]).start()\n",
    "\n",
    "while True:\n",
    "    result, img = video.read()\n",
    "\n",
    "    # Flipib pildi ümber, et toimuks arusaadav peegeldus\n",
    "    img = cv.flip(img, 1)\n",
    "\n",
    "    # Näotuvastus\n",
    "    gray_img = cv.cvtColor(img, cv.COLOR_BGR2GRAY)\n",
    "    faces = face_cascade.detectMultiScale(gray_img)\n",
    "    for (x, y, w, h) in faces:\n",
    "        cv.rectangle(img, (x, y), (x + w, y + h), (0, 0, 255), 2)\n",
    "        if refs[1] != \"\":\n",
    "            img = filterImage(img, x, y, w, refs[1])\n",
    "\n",
    "    cv.imshow(\"Camera\", img)\n",
    "\n",
    "    k = cv.waitKey(30) & 0xFF\n",
    "    if k == 27:  # ehk ESC nupp\n",
    "        break\n",
    "\n",
    "    if refs[0] == \"exit\":\n",
    "        break\n",
    "\n",
    "video.release()\n",
    "cv.destroyAllWindows()"
   ]
  },
  {
   "cell_type": "code",
   "execution_count": 16,
   "metadata": {
    "ExecuteTime": {
     "end_time": "2023-05-20T21:56:41.019748Z",
     "start_time": "2023-05-20T21:56:41.014081900Z"
    }
   },
   "outputs": [],
   "source": []
  }
 ],
 "metadata": {
  "kernelspec": {
   "display_name": "Python 3 (ipykernel)",
   "language": "python",
   "name": "python3"
  },
  "language_info": {
   "codemirror_mode": {
    "name": "ipython",
    "version": 3
   },
   "file_extension": ".py",
   "mimetype": "text/x-python",
   "name": "python",
   "nbconvert_exporter": "python",
   "pygments_lexer": "ipython3",
   "version": "3.8.10"
  }
 },
 "nbformat": 4,
 "nbformat_minor": 1
}
