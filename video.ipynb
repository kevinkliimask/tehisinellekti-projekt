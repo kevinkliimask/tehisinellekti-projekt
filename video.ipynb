{
 "cells": [
  {
   "cell_type": "code",
   "execution_count": 1,
   "metadata": {
    "collapsed": true,
    "ExecuteTime": {
     "end_time": "2023-05-20T12:14:27.551703300Z",
     "start_time": "2023-05-20T12:14:27.173049500Z"
    }
   },
   "outputs": [],
   "source": [
    "import cv2 as cv\n",
    "\n",
    "face_cascade = cv.CascadeClassifier(\"haarcascade_frontalface_default.xml\")"
   ]
  },
  {
   "cell_type": "code",
   "execution_count": 6,
   "outputs": [],
   "source": [
    "video = cv.VideoCapture(0)\n",
    "\n",
    "while True:\n",
    "    result, img = video.read()\n",
    "\n",
    "    # Flipib pildi ümber, et toimuks arusaadav peegeldus\n",
    "    img = cv.flip(img, 1)\n",
    "\n",
    "    # Näotuvastus\n",
    "    gray_img = cv.cvtColor(img, cv.COLOR_BGR2GRAY)\n",
    "    faces = face_cascade.detectMultiScale(gray_img)\n",
    "    for (x, y, w, h) in faces:\n",
    "        # Joonistab nägude ümber ristküliku\n",
    "        cv.rectangle(img, (x, y), (x + w, y + h), (0, 0, 255), 2)\n",
    "\n",
    "    cv.imshow(\"Camera\", img)\n",
    "    k = cv.waitKey(30) & 0xFF\n",
    "\n",
    "    # Escape klahv\n",
    "    if k == 27:\n",
    "        break\n",
    "\n",
    "video.release()\n",
    "cv.destroyAllWindows()"
   ],
   "metadata": {
    "collapsed": false,
    "ExecuteTime": {
     "end_time": "2023-05-20T12:22:13.538004Z",
     "start_time": "2023-05-20T12:21:57.683335100Z"
    }
   }
  },
  {
   "cell_type": "code",
   "execution_count": null,
   "outputs": [],
   "source": [],
   "metadata": {
    "collapsed": false
   }
  }
 ],
 "metadata": {
  "kernelspec": {
   "display_name": "Python 3",
   "language": "python",
   "name": "python3"
  },
  "language_info": {
   "codemirror_mode": {
    "name": "ipython",
    "version": 2
   },
   "file_extension": ".py",
   "mimetype": "text/x-python",
   "name": "python",
   "nbconvert_exporter": "python",
   "pygments_lexer": "ipython2",
   "version": "2.7.6"
  }
 },
 "nbformat": 4,
 "nbformat_minor": 0
}
