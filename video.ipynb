{
 "cells": [
  {
   "cell_type": "code",
   "execution_count": 1,
   "outputs": [
    {
     "name": "stdout",
     "output_type": "stream",
     "text": [
      "Requirement already satisfied: opencv-python in c:\\users\\kevin\\appdata\\local\\programs\\python\\python39\\lib\\site-packages (4.7.0.72)\n",
      "Requirement already satisfied: numpy>=1.17.0 in c:\\users\\kevin\\appdata\\local\\programs\\python\\python39\\lib\\site-packages (from opencv-python) (1.22.3)\n"
     ]
    },
    {
     "name": "stderr",
     "output_type": "stream",
     "text": [
      "\n",
      "[notice] A new release of pip available: 22.3.1 -> 23.1.2\n",
      "[notice] To update, run: C:\\Users\\Kevin\\AppData\\Local\\Programs\\Python\\Python39\\python.exe -m pip install --upgrade pip\n"
     ]
    }
   ],
   "source": [
    "!pip install opencv-python"
   ],
   "metadata": {
    "collapsed": false
   }
  },
  {
   "cell_type": "code",
   "execution_count": 2,
   "metadata": {
    "collapsed": true,
    "ExecuteTime": {
     "end_time": "2023-05-20T12:57:15.723447Z",
     "start_time": "2023-05-20T12:57:15.515385100Z"
    }
   },
   "outputs": [],
   "source": [
    "import threading\n",
    "import cv2 as cv\n",
    "import numpy as np\n",
    "\n",
    "face_cascade = cv.CascadeClassifier(\"haarcascade_frontalface_default.xml\")"
   ]
  },
  {
   "cell_type": "code",
   "execution_count": 3,
   "outputs": [],
   "source": [
    "# võetud https://stackoverflow.com/a/44659589\n",
    "def image_resize(image, width = None, height = None, inter = cv.INTER_AREA):\n",
    "    # initialize the dimensions of the image to be resized and\n",
    "    # grab the image size\n",
    "    dim = None\n",
    "    (h, w) = image.shape[:2]\n",
    "\n",
    "    # if both the width and height are None, then return the\n",
    "    # original image\n",
    "    if width is None and height is None:\n",
    "        return image\n",
    "\n",
    "    # check to see if the width is None\n",
    "    if width is None:\n",
    "        # calculate the ratio of the height and construct the\n",
    "        # dimensions\n",
    "        r = height / float(h)\n",
    "        dim = (int(w * r), height)\n",
    "\n",
    "    # otherwise, the height is None\n",
    "    else:\n",
    "        # calculate the ratio of the width and construct the\n",
    "        # dimensions\n",
    "        r = width / float(w)\n",
    "        dim = (width, int(h * r))\n",
    "\n",
    "    # resize the image\n",
    "    resized = cv.resize(image, dim, interpolation = inter)\n",
    "    # return the resized image\n",
    "    return resized"
   ],
   "metadata": {
    "collapsed": false
   }
  },
  {
   "cell_type": "code",
   "execution_count": 38,
   "outputs": [],
   "source": [
    "def overlayPng(background, overlay, x, y, w, h):\n",
    "    # kisume overlay pildist alpha kanali välja\n",
    "    alpha = overlay[:,:,3]\n",
    "    alpha = cv.merge([alpha,alpha,alpha])\n",
    "\n",
    "    background_cropped = background[y:y + h, x:x + w]\n",
    "\n",
    "    # kisume overlay pildist BGR kanalid välja\n",
    "    bgr = overlay[:,:,0:3]\n",
    "\n",
    "    # kui alpha on 0, vali taust, kui mitte, vali meie overlay filter\n",
    "    background[y:y + h, x:x + w] = np.where(alpha==0, background_cropped, bgr)\n",
    "    return background"
   ],
   "metadata": {
    "collapsed": false
   }
  },
  {
   "cell_type": "code",
   "execution_count": 35,
   "outputs": [],
   "source": [
    "head_keywords = [\"fedora\"]\n",
    "\n",
    "def headFilter(img, x, y, w, filter_path):\n",
    "    # loeme sisse overlay pildi koos alpha kanaliga\n",
    "    filter = cv.imread(f\"filters/{filter_path}.png\", cv.IMREAD_UNCHANGED)\n",
    "    filter = image_resize(filter, w)\n",
    "    y_offset = y + int(filter.shape[0] * 0.2) - filter.shape[0]\n",
    "    return overlayPng(img, filter, x, y_offset, w, filter.shape[0])"
   ],
   "metadata": {
    "collapsed": false
   }
  },
  {
   "cell_type": "code",
   "execution_count": 5,
   "outputs": [],
   "source": [
    "def videoWorker():\n",
    "    video = cv.VideoCapture(0)\n",
    "    global input\n",
    "    selected_filter = \"fedora\"\n",
    "\n",
    "    while True:\n",
    "        result, img = video.read()\n",
    "\n",
    "        # Flipib pildi ümber, et toimuks arusaadav peegeldus\n",
    "        img = cv.flip(img, 1)\n",
    "\n",
    "        # Näotuvastus\n",
    "        gray_img = cv.cvtColor(img, cv.COLOR_BGR2GRAY)\n",
    "        faces = face_cascade.detectMultiScale(gray_img)\n",
    "        for (x, y, w, h) in faces:\n",
    "            # Joonistab nägude ümber ristküliku\n",
    "            cv.rectangle(img, (x, y), (x + w, y + h), (0, 0, 255), 2)\n",
    "            if selected_filter:\n",
    "                img = headFilter(img, x, y, w, selected_filter)\n",
    "\n",
    "        cv.imshow(\"Camera\", img)\n",
    "\n",
    "        k = cv.waitKey(30) & 0xFF\n",
    "        if k == 27: # ehk ESC nupp\n",
    "            cv.destroyAllWindows()\n",
    "            break\n",
    "\n",
    "        if input == \"exit\":\n",
    "            cv.destroyAllWindows()\n",
    "            break\n",
    "\n",
    "    video.release()\n",
    "    cv.destroyAllWindows()\n",
    "\n",
    "def inputWorker():\n",
    "    global input\n",
    "    global selected_filter\n",
    "\n",
    "    while True:\n",
    "        input = input()\n",
    "        if input == \"exit\":\n",
    "            break\n",
    "        index = head_keywords.index(input)\n",
    "        if index != -1:\n",
    "            selected_filter = head_keywords[index]\n",
    "\n",
    "# threading.Thread(target=videoWorker).start()\n",
    "# threading.Thread(target=inputWorker).start()"
   ],
   "metadata": {
    "collapsed": false,
    "ExecuteTime": {
     "end_time": "2023-05-20T13:01:26.800278500Z",
     "start_time": "2023-05-20T13:01:18.462608400Z"
    }
   }
  },
  {
   "cell_type": "code",
   "execution_count": null,
   "outputs": [],
   "source": [
    "videoWorker()"
   ],
   "metadata": {
    "collapsed": false,
    "pycharm": {
     "is_executing": true
    }
   }
  }
 ],
 "metadata": {
  "kernelspec": {
   "display_name": "Python 3",
   "language": "python",
   "name": "python3"
  },
  "language_info": {
   "codemirror_mode": {
    "name": "ipython",
    "version": 2
   },
   "file_extension": ".py",
   "mimetype": "text/x-python",
   "name": "python",
   "nbconvert_exporter": "python",
   "pygments_lexer": "ipython2",
   "version": "2.7.6"
  }
 },
 "nbformat": 4,
 "nbformat_minor": 0
}
