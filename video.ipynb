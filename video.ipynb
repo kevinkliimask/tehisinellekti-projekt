{
 "cells": [
  {
   "cell_type": "code",
   "execution_count": 1,
   "outputs": [],
   "source": [
    "#!pip install opencv-python"
   ],
   "metadata": {
    "collapsed": false,
    "ExecuteTime": {
     "end_time": "2023-05-20T20:34:04.173390500Z",
     "start_time": "2023-05-20T20:34:04.157351Z"
    }
   }
  },
  {
   "cell_type": "code",
   "execution_count": 2,
   "metadata": {
    "collapsed": true,
    "ExecuteTime": {
     "end_time": "2023-05-20T20:34:04.359802300Z",
     "start_time": "2023-05-20T20:34:04.181354500Z"
    }
   },
   "outputs": [],
   "source": [
    "import threading\n",
    "import cv2 as cv\n",
    "import numpy as np\n",
    "\n",
    "face_cascade = cv.CascadeClassifier(\"haarcascade_frontalface_default.xml\")"
   ]
  },
  {
   "cell_type": "code",
   "execution_count": 3,
   "outputs": [],
   "source": [
    "# Tegeleb kasutaja poolt saadud sisenditega\n",
    "def inputWorker(ref):\n",
    "    filters = [\"glasses\", \"sunglasses\", \"fedora\"]\n",
    "    while True:\n",
    "        ref[0] = input(\"Küsimus\")\n",
    "        if ref[0] == \"exit\":\n",
    "            break\n",
    "\n",
    "        if ref[0] in filters:\n",
    "            ref[1] = ref[0]"
   ],
   "metadata": {
    "collapsed": false,
    "ExecuteTime": {
     "end_time": "2023-05-20T20:34:04.377409600Z",
     "start_time": "2023-05-20T20:34:04.359802300Z"
    }
   }
  },
  {
   "cell_type": "code",
   "execution_count": 4,
   "outputs": [],
   "source": [
    "# Paneb filtri pildile\n",
    "def overlayFilter(image, x, y, w, h, filter_img):\n",
    "    # Võtame overlay pildist alpha kanali välja\n",
    "    alpha = filter_img[:,:,3]\n",
    "    alpha = cv.merge([alpha,alpha,alpha])\n",
    "\n",
    "    cropped_image = image[y:y + h, x:x + w]\n",
    "\n",
    "    # Võtame overlay pildist BGR kanalid välja\n",
    "    bgr = filter_img[:,:,0:3]\n",
    "\n",
    "    # Kui alpha on 0, vali taust, kui mitte, vali meie overlay filter\n",
    "    image[y:y + h, x:x + w] = np.where(alpha==0, cropped_image, bgr)\n",
    "    return image"
   ],
   "metadata": {
    "collapsed": false,
    "ExecuteTime": {
     "end_time": "2023-05-20T20:34:04.399747900Z",
     "start_time": "2023-05-20T20:34:04.378817200Z"
    }
   }
  },
  {
   "cell_type": "code",
   "execution_count": 5,
   "outputs": [],
   "source": [
    "# Valib vastava filtri, määrab selle suuruse ning paneb selle pildile\n",
    "def filterImage(image, x, y, w, h, filter_name):\n",
    "    head_filters = [\"fedora\"]\n",
    "    eye_filters = [\"glasses\", \"sunglasses\"]\n",
    "\n",
    "    filter_img = cv.imread(f\"filters/{filter_name}.png\", cv.IMREAD_UNCHANGED)\n",
    "\n",
    "    fh = int(filter_img.shape[0] * w / float(filter_img.shape[1]))\n",
    "    filter_img = cv.resize(filter_img, (w, fh))\n",
    "\n",
    "    fh, fw = filter_img.shape[:2]\n",
    "    if filter_name in head_filters:\n",
    "        y = y - int(fw * 0.5)\n",
    "    elif filter_name in eye_filters:\n",
    "        y = y + int(fw * 0.25)\n",
    "\n",
    "    # Kui filter läheb ekraanist välja, siis lõikame vastavalt vähemaks\n",
    "    if y < 0:\n",
    "        filter_img = filter_img[abs(y):]\n",
    "        h -= abs(y)\n",
    "        y = 0\n",
    "\n",
    "    if 0 <= x and x + fw < image.shape[1] and y + fh < image.shape[0]:\n",
    "        return overlayFilter(image, x, y, fw, fh, filter_img)\n",
    "    return image"
   ],
   "metadata": {
    "collapsed": false,
    "ExecuteTime": {
     "end_time": "2023-05-20T20:34:04.416470100Z",
     "start_time": "2023-05-20T20:34:04.407759100Z"
    }
   }
  },
  {
   "cell_type": "code",
   "execution_count": 6,
   "outputs": [],
   "source": [
    "video = cv.VideoCapture(0)\n",
    "refs = [\"\", \"\"]\n",
    "\n",
    "threading.Thread(target=inputWorker, args=[refs]).start()\n",
    "\n",
    "while True:\n",
    "    result, img = video.read()\n",
    "\n",
    "    # Flipib pildi ümber, et toimuks arusaadav peegeldus\n",
    "    img = cv.flip(img, 1)\n",
    "\n",
    "    # Näotuvastus\n",
    "    gray_img = cv.cvtColor(img, cv.COLOR_BGR2GRAY)\n",
    "    faces = face_cascade.detectMultiScale(gray_img)\n",
    "    for (x, y, w, h) in faces:\n",
    "        if refs[1] != \"\":\n",
    "            img = filterImage(img, x, y, w, h, refs[1])\n",
    "\n",
    "    cv.imshow(\"Camera\", img)\n",
    "\n",
    "    k = cv.waitKey(30) & 0xFF\n",
    "    if k == 27: # ehk ESC nupp\n",
    "        break\n",
    "\n",
    "    if refs[0] == \"exit\":\n",
    "        break\n",
    "\n",
    "video.release()\n",
    "cv.destroyAllWindows()"
   ],
   "metadata": {
    "collapsed": false,
    "pycharm": {
     "is_executing": true
    },
    "ExecuteTime": {
     "end_time": "2023-05-20T20:34:13.444270100Z",
     "start_time": "2023-05-20T20:34:04.416470100Z"
    }
   }
  },
  {
   "cell_type": "code",
   "execution_count": 6,
   "outputs": [],
   "source": [],
   "metadata": {
    "collapsed": false,
    "ExecuteTime": {
     "end_time": "2023-05-20T20:34:13.465777200Z",
     "start_time": "2023-05-20T20:34:13.444270100Z"
    }
   }
  }
 ],
 "metadata": {
  "kernelspec": {
   "display_name": "Python 3",
   "language": "python",
   "name": "python3"
  },
  "language_info": {
   "codemirror_mode": {
    "name": "ipython",
    "version": 2
   },
   "file_extension": ".py",
   "mimetype": "text/x-python",
   "name": "python",
   "nbconvert_exporter": "python",
   "pygments_lexer": "ipython2",
   "version": "2.7.6"
  }
 },
 "nbformat": 4,
 "nbformat_minor": 0
}
